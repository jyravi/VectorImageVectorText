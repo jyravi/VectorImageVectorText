{
 "cells": [
  {
   "cell_type": "code",
   "execution_count": 4,
   "metadata": {},
   "outputs": [],
   "source": [
    "import requests\n",
    "import json\n",
    "import os\n",
    "import time\n",
    "from sklearn.metrics.pairwise import cosine_similarity\n",
    "import numpy as np"
   ]
  },
  {
   "cell_type": "code",
   "execution_count": 1,
   "metadata": {},
   "outputs": [],
   "source": [
    "endpoint=\"https://************.cognitiveservices.azure.com/computervision/retrieval:vectorizeImage?api-version=2023-02-01-preview\""
   ]
  },
  {
   "cell_type": "code",
   "execution_count": 9,
   "metadata": {},
   "outputs": [],
   "source": [
    "def get_image_vector(image_path):\n",
    "    with open(image_path, \"rb\") as image_contents:\n",
    "        data = image_contents.read()\n",
    "    return data\n",
    "\n",
    "def get_image_vector_url(image_url):\n",
    "    data=json.dumps({\"url\":image_url})\n",
    "    return data\n",
    "    \n",
    "def apicalldemo(url,headers,data):\n",
    "    response=requests.post(endpoint, headers=headers, data=data)\n",
    "    return response.json()['vector']"
   ]
  },
  {
   "attachments": {},
   "cell_type": "markdown",
   "metadata": {},
   "source": [
    "### Competition vs Udaan"
   ]
  },
  {
   "attachments": {},
   "cell_type": "markdown",
   "metadata": {},
   "source": [
    "#### Image Comparison"
   ]
  },
  {
   "cell_type": "code",
   "execution_count": 40,
   "metadata": {},
   "outputs": [],
   "source": [
    "import requests\n",
    "import json\n",
    "import os\n",
    "import time\n",
    "from sklearn.metrics.pairwise import cosine_similarity\n",
    "import numpy as np"
   ]
  },
  {
   "cell_type": "code",
   "execution_count": 41,
   "metadata": {},
   "outputs": [],
   "source": [
    "comp_urls=[\"https://udaan.azureedge.net/assets/txqmhx9u1f7bbweyandx.png\",\n",
    "\"https://udaan.azureedge.net/assets/ahcknq9pvr5l620nuysn.png\",\n",
    "\"https://udaan.azureedge.net/assets/h7wu8950pdcrsrmd35eh.png\",\n",
    "\"https://udaan.azureedge.net/assets/t6gbi5q957bz99bq22s1.png\",\n",
    "\"https://udaan.azureedge.net/assets/9o09ch8yqbke7p6jyg9y.png\",\n",
    "\"https://udaan.azureedge.net/assets/yneubp1kttrmds1glcrf.png\",\n",
    "\"https://udaan.azureedge.net/assets/qjuu7vblxbh6vtsi2s4l.png\"]"
   ]
  },
  {
   "attachments": {},
   "cell_type": "markdown",
   "metadata": {},
   "source": [
    "#### Get image from local path or from url and pass it to the Image retrieval API"
   ]
  },
  {
   "cell_type": "code",
   "execution_count": 42,
   "metadata": {},
   "outputs": [],
   "source": [
    "### Image stored in local path\n",
    "def get_image_vector(image_path):\n",
    "    with open(image_path, \"rb\") as image_contents:\n",
    "        data = image_contents.read()\n",
    "    return data\n",
    "### Image stored in URL\n",
    "def get_image_vector_url(image_url):\n",
    "    data=json.dumps({\"url\":image_url})\n",
    "    return data\n",
    "### API call\n",
    "### headers can be changed based on the type of image (local or URL)\n",
    "headers_local={\"Content-Type\":\"application/octet-stream\",\"Ocp-Apim-Subscription-Key\":\"******************\"}\n",
    "headers_url={\"Content-Type\":\"application/json\",\"Ocp-Apim-Subscription-Key\":\"******************\"}\n",
    "\n",
    "def apicalldemo(endpoint,headers,data):\n",
    "    response=requests.post(endpoint, headers=headers, data=data)\n",
    "    return response.json()['vector']"
   ]
  },
  {
   "cell_type": "code",
   "execution_count": 43,
   "metadata": {},
   "outputs": [],
   "source": [
    "import glob\n",
    "path=\"Path to comptetitionImage\"\n",
    "vector_image=[]\n",
    "image_name=[]\n",
    "for img in glob.glob(path+\"\\\\*\"):\n",
    "    #print(img)\n",
    "    data=get_image_vector(img)\n",
    "    vector_image.append(apicalldemo(endpoint,headers_local,data))\n",
    "    image_name.append([img.split(\"\\\\\")[-1]])"
   ]
  },
  {
   "cell_type": "code",
   "execution_count": 49,
   "metadata": {},
   "outputs": [],
   "source": [
    "path=\"path to Udaan Image\"\n",
    "Udan_vector_image=[]\n",
    "Udan_image_name=[]\n",
    "for img in glob.glob(path+\"\\\\*\"):\n",
    "    #print(img)\n",
    "    data=get_image_vector(img)\n",
    "    Udan_vector_image.append(apicalldemo(endpoint,headers_local,data))\n",
    "    Udan_image_name.append([img.split(\"\\\\\")[-1]])"
   ]
  },
  {
   "cell_type": "code",
   "execution_count": 51,
   "metadata": {},
   "outputs": [],
   "source": [
    "#### Cosine similarity between competition images and Udaan images\n",
    "result_sim=np.zeros((len(Udan_vector_image),len(vector_image)))\n",
    "for i in range(len(Udan_vector_image)):    \n",
    "    for j in range(len(vector_image)):\n",
    "        result_sim[i,j]=cosine_similarity([Udan_vector_image[i]],[vector_image[j]])[0][0]"
   ]
  },
  {
   "cell_type": "code",
   "execution_count": 6,
   "metadata": {},
   "outputs": [],
   "source": [
    "import itertools\n",
    "row_ind=list(itertools.chain(*list(itertools.chain(Udan_image_name))))\n",
    "col_ind=list(itertools.chain(*list(itertools.chain(image_name))))\n"
   ]
  },
  {
   "cell_type": "code",
   "execution_count": 7,
   "metadata": {},
   "outputs": [],
   "source": [
    "import pandas as pd\n",
    "df = pd.DataFrame(result_sim,index = row_ind,columns =col_ind)\n"
   ]
  },
  {
   "attachments": {},
   "cell_type": "markdown",
   "metadata": {},
   "source": [
    "#### Using Image urls"
   ]
  },
  {
   "cell_type": "code",
   "execution_count": 39,
   "metadata": {},
   "outputs": [],
   "source": [
    "vector_url=[]\n",
    "imagename_url=[]\n",
    "for url in comp_urls:\n",
    "    data=get_image_vector_url(url)\n",
    "    imagename_url.append(url.split(\"/\")[-1])\n",
    "    vector_url.append(apicalldemo(endpoint,headers_url,data))"
   ]
  },
  {
   "cell_type": "code",
   "execution_count": 25,
   "metadata": {},
   "outputs": [],
   "source": [
    "udaan_urls=[\"https://udaan.azureedge.net/assets/txqmhx9u1f7bbweyandx.png\",\"https://img.udaan.com/v2/trim/f_auto,q_auto:good,w_1600/u/products/dou80s84gf3k0ndfebw3.887Z/Britannia-Nutrichoice-Digestive-Hi-Fibre-Digestive\"]"
   ]
  },
  {
   "cell_type": "code",
   "execution_count": 8,
   "metadata": {},
   "outputs": [],
   "source": [
    "Udan_vector_url=[]\n",
    "Udan_imagename_url=[]\n",
    "for ul in udaan_urls:\n",
    "    data=get_image_vector_url(ul)    \n",
    "    Udan_vector_url.append(apicalldemo(endpoint,headers_url,data))\n",
    "    Udan_imagename_url.append(ul.split(\"/\")[-1])"
   ]
  },
  {
   "cell_type": "code",
   "execution_count": 59,
   "metadata": {},
   "outputs": [],
   "source": [
    "resultsim=np.zeros((len(Udan_imagename_url),len(Udan_vector_url)))\n",
    "for i in range(len(Udan_imagename_url)):    \n",
    "    for j in range(len(imagename_url)):\n",
    "        resultsim[i,j]=cosine_similarity([Udan_vector_url[i]],[vector_url[j]])[0][0]"
   ]
  },
  {
   "cell_type": "code",
   "execution_count": 9,
   "metadata": {},
   "outputs": [],
   "source": [
    "rowind=Udan_imagename_url\n",
    "colind=imagename_url\n"
   ]
  },
  {
   "cell_type": "code",
   "execution_count": 10,
   "metadata": {},
   "outputs": [],
   "source": [
    "import pandas as pd\n",
    "df = pd.DataFrame(resultsim,index = rowind,columns =colind)\n",
    "df.head()"
   ]
  },
  {
   "attachments": {},
   "cell_type": "markdown",
   "metadata": {},
   "source": [
    "#### Text Comparison"
   ]
  },
  {
   "cell_type": "code",
   "execution_count": 133,
   "metadata": {},
   "outputs": [],
   "source": [
    "comp_titles=[\"Britannia Marie Gold Biscuits 68 g (+Get 15 g Extra)\",\n",
    "\"Britannia Marie Gold Biscuits 43 g\" ,\n",
    "\"Britannia Tiger Krunch Choco Chip Cookies 64 g (+Get 16 g Extra)\",\n",
    "\"Britannia Vita Marie Gold Biscuits 248 g\",\n",
    "\"Britannia Marie Gold Biscuits 300 g\",\n",
    "\"Britannia Marie Gold Biscuits 400 g\",\n",
    "\"Britannia Marie Gold Biscuits 33 g\"]"
   ]
  },
  {
   "cell_type": "code",
   "execution_count": 142,
   "metadata": {},
   "outputs": [],
   "source": [
    "comp_img_names=[\"txqmhx9u1f7bbweyandx.png\",\n",
    "\"ahcknq9pvr5l620nuysn.png\",\n",
    "\"h7wu8950pdcrsrmd35eh.png\",\n",
    "\"t6gbi5q957bz99bq22s1.png\",\n",
    "\"9o09ch8yqbke7p6jyg9y.png\",\n",
    "\"yneubp1kttrmds1glcrf.png\",\n",
    "\"qjuu7vblxbh6vtsi2s4l.png\"]\n",
    "comp_details=list(zip(comp_img_names,comp_titles))"
   ]
  },
  {
   "cell_type": "code",
   "execution_count": 143,
   "metadata": {},
   "outputs": [],
   "source": [
    "udaan_titles=[\"Britannia Marie Gold Biscuits 68 g (+Get 15 g Extra)\",\"BRITANNIA Nutri Choice High Fibre Biscuits Digestive  (100 g)\"]\n",
    "udaan_img_names=[\"txqmhx9u1f7bbweyandx.png\",\"nutrichoice.png\"]\n",
    "udaan_details=list(zip(udaan_img_names,udaan_titles))"
   ]
  },
  {
   "cell_type": "code",
   "execution_count": 84,
   "metadata": {},
   "outputs": [],
   "source": [
    "text_url=\"https://newolatest.cognitiveservices.azure.com/computervision/retrieval:vectorizeText?api-version=2023-02-01-preview&modelVersion=latest\"\n",
    "textheaders={\"Content-Type\": \"application/json\", \"Ocp-Apim-Subscription-Key\": \"******************\"}"
   ]
  },
  {
   "cell_type": "code",
   "execution_count": 117,
   "metadata": {},
   "outputs": [],
   "source": [
    "\n",
    "def get_text_vector(text):\n",
    "    data = {\"text\":text}    \n",
    "    response = requests.post(text_url, headers=textheaders, json=data)\n",
    "    return response.json()['vector']    "
   ]
  },
  {
   "cell_type": "code",
   "execution_count": 146,
   "metadata": {},
   "outputs": [],
   "source": [
    "utv=[]\n",
    "ctv=[]\n",
    "for ii in range(len(udaan_details)):\n",
    "    #print(udaan_titles[ii])\n",
    "    utv.append([udaan_details[ii][0],get_text_vector(udaan_details[ii][1])])\n",
    "for jj in range(len(comp_details)):\n",
    "    #print(comp_titles[jj])\n",
    "    ctv.append([comp_details[jj][0],get_text_vector(comp_details[jj][1])])\n"
   ]
  },
  {
   "cell_type": "code",
   "execution_count": 148,
   "metadata": {},
   "outputs": [],
   "source": [
    "result_sim_text=np.zeros((len(utv),len(ctv)))"
   ]
  },
  {
   "cell_type": "code",
   "execution_count": 149,
   "metadata": {},
   "outputs": [],
   "source": [
    "u_img_name=[]\n",
    "c_img_name=[]\n",
    "for ii in range(len(utv)):\n",
    "    #print(udaan_titles[ii])\n",
    "    u_img_name.append(utv[ii][0])\n",
    "    for jj in range(len(ctv)):\n",
    "        if ctv[jj][0] not in c_img_name:\n",
    "            c_img_name.append(ctv[jj][0])\n",
    "        result_sim_text[ii,jj]=cosine_similarity([utv[ii][1]],[ctv[jj][1]])[0][0]\n"
   ]
  },
  {
   "cell_type": "code",
   "execution_count": 11,
   "metadata": {},
   "outputs": [],
   "source": [
    "df_text=pd.DataFrame(result_sim_text,index = u_img_name,columns =c_img_name)\n",
    "df_text.head()"
   ]
  },
  {
   "cell_type": "markdown",
   "metadata": {},
   "source": []
  }
 ],
 "metadata": {
  "kernelspec": {
   "display_name": "Python 3",
   "language": "python",
   "name": "python3"
  },
  "language_info": {
   "codemirror_mode": {
    "name": "ipython",
    "version": 3
   },
   "file_extension": ".py",
   "mimetype": "text/x-python",
   "name": "python",
   "nbconvert_exporter": "python",
   "pygments_lexer": "ipython3",
   "version": "3.10.5"
  },
  "orig_nbformat": 4,
  "vscode": {
   "interpreter": {
    "hash": "369f2c481f4da34e4445cda3fffd2e751bd1c4d706f27375911949ba6bb62e1c"
   }
  }
 },
 "nbformat": 4,
 "nbformat_minor": 2
}
